{
 "cells": [
  {
   "cell_type": "markdown",
   "metadata": {},
   "source": [
    "# Exploratory Data Analysis (TBD)"
   ]
  },
  {
   "cell_type": "code",
   "execution_count": 1,
   "metadata": {},
   "outputs": [],
   "source": [
    "from utils.loading import load_masked_images, load_images, load_labels"
   ]
  },
  {
   "cell_type": "markdown",
   "metadata": {},
   "source": [
    "### Loading the data"
   ]
  },
  {
   "cell_type": "code",
   "execution_count": 2,
   "metadata": {},
   "outputs": [],
   "source": [
    "labels = load_labels()"
   ]
  },
  {
   "cell_type": "code",
   "execution_count": 3,
   "metadata": {},
   "outputs": [
    {
     "name": "stdout",
     "output_type": "stream",
     "text": [
      "{'class': 'plantation', 'segmentation': [0.0, 449.0, 9.0, 454.0, 18.0, 461.0, 26.0, 468.0, 33.0, 475.0, 40.0, 477.0, 50.0, 485.0, 59.0, 497.0, 70.0, 502.0, 78.0, 513.0, 82.0, 523.0, 91.0, 536.0, 97.0, 546.0, 98.0, 556.0, 102.0, 558.0, 111.0, 578.0, 122.0, 603.0, 132.0, 627.0, 133.0, 635.0, 113.0, 641.0, 86.0, 642.0, 86.0, 642.0, 71.0, 643.0, 69.0, 654.0, 65.0, 665.0, 58.0, 674.0, 51.0, 681.0, 56.0, 694.0, 57.0, 700.0, 80.0, 695.0, 83.0, 700.0, 88.0, 702.0, 88.0, 703.0, 102.0, 699.0, 113.0, 695.0, 122.0, 696.0, 131.0, 705.0, 144.0, 715.0, 151.0, 727.0, 155.0, 730.0, 165.0, 725.0, 180.0, 721.0, 187.0, 723.0, 198.0, 732.0, 223.0, 742.0, 250.0, 753.0, 261.0, 757.0, 261.0, 769.0, 344.0, 785.0, 425.0, 801.0, 523.0, 823.0, 582.0, 835.0, 587.0, 842.0, 587.0, 863.0, 592.0, 874.0, 592.0, 887.0, 598.0, 895.0, 608.0, 901.0, 612.0, 904.0, 612.0, 954.0, 609.0, 964.0, 600.0, 971.0, 592.0, 973.0, 588.0, 976.0, 571.0, 975.0, 563.0, 975.0, 564.0, 996.0, 598.0, 996.0, 623.0, 997.0, 631.0, 1000.0, 640.0, 1010.0, 642.0, 1024.0, 0.0, 1024.0]}\n",
      "{'class': 'plantation', 'segmentation': [294.0, 0.0, 299.0, 11.0, 308.0, 26.0, 326.0, 34.0, 349.0, 35.0, 371.0, 36.0, 394.0, 41.0, 415.0, 47.0, 428.0, 53.0, 438.0, 66.0, 454.0, 70.0, 455.0, 73.0, 459.0, 75.0, 460.0, 84.0, 460.0, 108.0, 460.0, 153.0, 459.0, 179.0, 531.0, 179.0, 571.0, 204.0, 627.0, 234.0, 688.0, 270.0, 711.0, 285.0, 660.0, 322.0, 626.0, 340.0, 628.0, 471.0, 666.0, 471.0, 705.0, 471.0, 703.0, 492.0, 700.0, 535.0, 693.0, 571.0, 650.0, 621.0, 604.0, 671.0, 591.0, 690.0, 579.0, 708.0, 580.0, 708.0, 550.0, 710.0, 517.0, 715.0, 500.0, 717.0, 465.0, 720.0, 444.0, 718.0, 426.0, 721.0, 407.0, 719.0, 393.0, 714.0, 358.0, 713.0, 324.0, 724.0, 253.0, 676.0, 253.0, 676.0, 284.0, 656.0, 259.0, 647.0, 253.0, 637.0, 215.0, 596.0, 186.0, 543.0, 170.0, 505.0, 152.0, 474.0, 133.0, 457.0, 103.0, 438.0, 67.0, 414.0, 38.0, 405.0, 17.0, 396.0, 0.0, 395.0, 0.0, 0.0]}\n",
      "{'class': 'plantation', 'segmentation': [682.0, 859.0, 683.0, 880.0, 698.0, 909.0, 723.0, 949.0, 726.0, 953.0, 730.0, 976.0, 734.0, 982.0, 745.0, 984.0, 752.0, 988.0, 757.0, 1000.0, 846.0, 1001.0, 863.0, 968.0, 873.0, 953.0, 872.0, 897.0, 794.0, 872.0, 791.0, 859.0, 785.0, 846.0, 774.0, 844.0, 776.0, 832.0, 768.0, 831.0, 767.0, 816.0, 741.0, 829.0, 702.0, 827.0]}\n"
     ]
    }
   ],
   "source": [
    "for i in labels[\"train_0.tif\"]:\n",
    "    print(i)"
   ]
  },
  {
   "cell_type": "code",
   "execution_count": 4,
   "metadata": {},
   "outputs": [],
   "source": [
    "images = load_images()"
   ]
  },
  {
   "cell_type": "code",
   "execution_count": null,
   "metadata": {},
   "outputs": [],
   "source": [
    "print(images[\"train_0.tif\"])"
   ]
  },
  {
   "cell_type": "code",
   "execution_count": 6,
   "metadata": {},
   "outputs": [],
   "source": [
    "masked_images = load_masked_images()"
   ]
  },
  {
   "cell_type": "code",
   "execution_count": null,
   "metadata": {},
   "outputs": [],
   "source": [
    "print(masked_images[\"train_0.tif\"])"
   ]
  },
  {
   "cell_type": "markdown",
   "metadata": {},
   "source": [
    "### Checking for nan values"
   ]
  },
  {
   "cell_type": "markdown",
   "metadata": {},
   "source": [
    "### Is other data cleaning necessary?"
   ]
  },
  {
   "cell_type": "markdown",
   "metadata": {},
   "source": [
    "### Looking at a datapoints profile"
   ]
  },
  {
   "cell_type": "markdown",
   "metadata": {},
   "source": [
    "### Visualizing a data point"
   ]
  },
  {
   "cell_type": "markdown",
   "metadata": {},
   "source": [
    "### Can we visualize the locations on a map? (does it exist tools to do this already?)"
   ]
  },
  {
   "cell_type": "markdown",
   "metadata": {},
   "source": [
    "### Normalizing the data"
   ]
  },
  {
   "cell_type": "markdown",
   "metadata": {},
   "source": [
    "### Is other preprocessing necessary?"
   ]
  }
 ],
 "metadata": {
  "kernelspec": {
   "display_name": ".solafuneenv",
   "language": "python",
   "name": "python3"
  },
  "language_info": {
   "codemirror_mode": {
    "name": "ipython",
    "version": 3
   },
   "file_extension": ".py",
   "mimetype": "text/x-python",
   "name": "python",
   "nbconvert_exporter": "python",
   "pygments_lexer": "ipython3",
   "version": "3.12.4"
  }
 },
 "nbformat": 4,
 "nbformat_minor": 2
}
