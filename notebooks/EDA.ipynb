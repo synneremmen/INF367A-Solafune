{
 "cells": [
  {
   "cell_type": "markdown",
   "metadata": {},
   "source": [
    "# Exploratory Data Analysis (TBD)"
   ]
  },
  {
   "cell_type": "code",
   "execution_count": 1,
   "metadata": {},
   "outputs": [],
   "source": [
    "import os\n",
    "import sys\n",
    "sys.path.append(os.path.abspath(\"..\"))\n",
    "\n",
    "from utils.loading import load_masked_images, load_images, load_labels\n",
    "from utils.visualization import plot_image"
   ]
  },
  {
   "cell_type": "markdown",
   "metadata": {},
   "source": [
    "### Loading the data"
   ]
  },
  {
   "cell_type": "code",
   "execution_count": null,
   "metadata": {},
   "outputs": [],
   "source": [
    "labels = load_labels()\n",
    "images = load_images(subset=True)\n",
    "masked_images = load_masked_images(subset=True)"
   ]
  },
  {
   "cell_type": "markdown",
   "metadata": {},
   "source": [
    "### Exploring the loaded data"
   ]
  },
  {
   "cell_type": "code",
   "execution_count": 3,
   "metadata": {},
   "outputs": [],
   "source": [
    "example_image = \"train_0.tif\""
   ]
  },
  {
   "cell_type": "markdown",
   "metadata": {},
   "source": [
    "#### Labels"
   ]
  },
  {
   "cell_type": "code",
   "execution_count": null,
   "metadata": {},
   "outputs": [],
   "source": [
    "print(\"Size of labels:\", len(labels))\n",
    "print(\"Keys for labels:\", list(labels.keys())[:5], end=\"\\n\\n\")\n",
    "\n",
    "print(f\"Example of labels for {example_image} with {len(labels[example_image])} polygons:\")    \n",
    "for label in labels[example_image]:\n",
    "    print(label)"
   ]
  },
  {
   "cell_type": "markdown",
   "metadata": {},
   "source": [
    "#### Images"
   ]
  },
  {
   "cell_type": "code",
   "execution_count": null,
   "metadata": {},
   "outputs": [],
   "source": [
    "print(\"Keys for images:\",images[example_image].keys(), end=\"\\n\\n\") \n",
    "print(f\"Profile for {example_image}:\")\n",
    "print(images[example_image][\"profile\"],end=\"\\n\\n\")\n",
    "print(f\"Image for {example_image}:\")\n",
    "print(images[example_image][\"image\"],end=\"\\n\\n\")"
   ]
  },
  {
   "cell_type": "markdown",
   "metadata": {},
   "source": [
    "#### Masked images"
   ]
  },
  {
   "cell_type": "code",
   "execution_count": null,
   "metadata": {},
   "outputs": [],
   "source": [
    "print(\"Keys for masked_images:\",masked_images[example_image].keys(), end=\"\\n\\n\") \n",
    "print(f\"Profile for {example_image}:\")\n",
    "print(masked_images[example_image][\"profile\"],end=\"\\n\\n\")\n",
    "print(f\"Masked image for {example_image}:\")\n",
    "print(masked_images[example_image][\"image\"],end=\"\\n\\n\")"
   ]
  },
  {
   "cell_type": "markdown",
   "metadata": {},
   "source": [
    "### Checking for nan values"
   ]
  },
  {
   "cell_type": "code",
   "execution_count": null,
   "metadata": {},
   "outputs": [],
   "source": [
    "import numpy as np\n",
    "\n",
    "values = images[example_image][\"image\"] # The first band\n",
    "print(\"Shape of an image:\", values.shape)\n",
    "\n",
    "found_nan = list()\n",
    "for img in images:\n",
    "    for i in range(12):\n",
    "        values = images[img][\"image\"][i]\n",
    "        if np.isnan(values).any():\n",
    "            found_nan.append(img)\n",
    "            break\n",
    "\n",
    "print(f\"Found {len(found_nan)} images with NaN values: {found_nan}\")"
   ]
  },
  {
   "cell_type": "markdown",
   "metadata": {},
   "source": [
    "But does all bands of one image with NaN values all have the same Nan values?"
   ]
  },
  {
   "cell_type": "code",
   "execution_count": null,
   "metadata": {},
   "outputs": [],
   "source": [
    "different_nan = list()\n",
    "for img in found_nan:\n",
    "    nan_mask = np.isnan(images[img][\"image\"][0])\n",
    "    for i in range(1, 12):\n",
    "        nan_mask &= np.isnan(images[img][\"image\"][i])\n",
    "\n",
    "    if not nan_mask.any():\n",
    "        different_nan.append(img)\n",
    "\n",
    "print(f\"Found {len(different_nan)} with different NaN values per band: {different_nan}\")"
   ]
  },
  {
   "cell_type": "code",
   "execution_count": null,
   "metadata": {},
   "outputs": [],
   "source": [
    "for img in different_nan:\n",
    "    plot_image(img, num_plots=3)"
   ]
  },
  {
   "cell_type": "markdown",
   "metadata": {},
   "source": [
    "### Is other data cleaning necessary?"
   ]
  },
  {
   "cell_type": "code",
   "execution_count": null,
   "metadata": {},
   "outputs": [],
   "source": [
    "# Your mama"
   ]
  },
  {
   "cell_type": "markdown",
   "metadata": {},
   "source": [
    "### Looking at a datapoints profile"
   ]
  },
  {
   "cell_type": "code",
   "execution_count": null,
   "metadata": {},
   "outputs": [],
   "source": [
    "print(images[example_image][\"profile\"])"
   ]
  },
  {
   "cell_type": "markdown",
   "metadata": {},
   "source": [
    "### Visualizing a data point"
   ]
  },
  {
   "cell_type": "markdown",
   "metadata": {},
   "source": [
    "### Can we visualize the locations on a map? (does it exist tools to do this already?)"
   ]
  },
  {
   "cell_type": "markdown",
   "metadata": {},
   "source": [
    "### Normalizing the data"
   ]
  },
  {
   "cell_type": "markdown",
   "metadata": {},
   "source": [
    "### Is other preprocessing necessary?"
   ]
  }
 ],
 "metadata": {
  "kernelspec": {
   "display_name": "INF367A",
   "language": "python",
   "name": "python3"
  },
  "language_info": {
   "codemirror_mode": {
    "name": "ipython",
    "version": 3
   },
   "file_extension": ".py",
   "mimetype": "text/x-python",
   "name": "python",
   "nbconvert_exporter": "python",
   "pygments_lexer": "ipython3",
   "version": "3.10.12"
  }
 },
 "nbformat": 4,
 "nbformat_minor": 2
}
