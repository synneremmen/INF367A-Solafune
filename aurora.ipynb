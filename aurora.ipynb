{
 "cells": [
  {
   "cell_type": "code",
   "execution_count": 1,
   "metadata": {},
   "outputs": [],
   "source": [
    "import solafune_tools\n",
    "import rasterio\n",
    "import glob\n",
    "import numpy as np\n",
    "import matplotlib.pyplot as plt\n",
    "from shapely.geometry import box\n",
    "from solafune_tools import settings\n",
    "from solafune_tools import create_local_catalog_from_scratch\n",
    "from solafune_tools import get_catalog_items_as_gdf\n",
    "import geopandas as gpd\n",
    "import json\n",
    "from matplotlib.patches import Polygon\n"
   ]
  },
  {
   "cell_type": "code",
   "execution_count": null,
   "metadata": {},
   "outputs": [],
   "source": [
    "src = rasterio.open('./data/train_images/train_0.tif')\n",
    "profile = src.profile  # Get the metadata of the original file\n",
    "crs = profile['crs']  # Get the coordinate reference system of the original file\n",
    "crs"
   ]
  },
  {
   "cell_type": "code",
   "execution_count": 3,
   "metadata": {},
   "outputs": [],
   "source": [
    "with open(\"./data/train_annotations.json\", \"r\") as f:\n",
    "    labels = json.load(f)"
   ]
  },
  {
   "cell_type": "code",
   "execution_count": 4,
   "metadata": {},
   "outputs": [],
   "source": [
    "#  Find first image in the JSON\n",
    "target_filename = \"train_0.tif\"\n",
    "train_0_data = None\n",
    "\n",
    "for image_info in labels[\"images\"]:\n",
    "    if image_info[\"file_name\"] == target_filename:\n",
    "        train_0_data = image_info\n",
    "        break\n",
    "\n",
    "annotations = train_0_data[\"annotations\"]"
   ]
  },
  {
   "cell_type": "code",
   "execution_count": null,
   "metadata": {},
   "outputs": [],
   "source": [
    "all_classes = []\n",
    "for image_info in labels[\"images\"]:\n",
    "    for annotation in image_info[\"annotations\"]:\n",
    "        all_classes.append(annotation[\"class\"])\n",
    "\n",
    "# 3. Optionally turn the list into a set to get unique labels only\n",
    "unique_classes = set(all_classes)\n",
    "\n",
    "print(\"Unique classes:\", unique_classes)\n"
   ]
  },
  {
   "cell_type": "code",
   "execution_count": 6,
   "metadata": {},
   "outputs": [],
   "source": [
    "train_0_label = annotations[0]['class']"
   ]
  },
  {
   "cell_type": "code",
   "execution_count": 7,
   "metadata": {},
   "outputs": [],
   "source": [
    "train_0_segmentation = annotations[0][\"segmentation\"]"
   ]
  },
  {
   "cell_type": "code",
   "execution_count": null,
   "metadata": {},
   "outputs": [],
   "source": [
    "polygon_coords = [(train_0_segmentation[i], train_0_segmentation[i+1]) for i in range(0, len(train_0_segmentation), 2)]\n",
    "\n",
    "# 3. Plot the image and the polygon\n",
    "fig, ax = plt.subplots()\n",
    "\n",
    "# Show the raster band\n",
    "ax.imshow(src.read(1))\n",
    "\n",
    "# Create a Polygon patch; fill=False draws only the outline\n",
    "poly_patch = Polygon(\n",
    "    polygon_coords,\n",
    "    edgecolor=\"red\",\n",
    "    linewidth=2,\n",
    "    facecolor=\"red\",\n",
    "    alpha=0.5,\n",
    ")\n",
    "ax.add_patch(poly_patch)\n",
    "\n",
    "plt.title(\"Example: 'train_0.tif'\")\n",
    "plt.show()\n"
   ]
  }
 ],
 "metadata": {
  "kernelspec": {
   "display_name": ".solafuneenv",
   "language": "python",
   "name": "python3"
  },
  "language_info": {
   "codemirror_mode": {
    "name": "ipython",
    "version": 3
   },
   "file_extension": ".py",
   "mimetype": "text/x-python",
   "name": "python",
   "nbconvert_exporter": "python",
   "pygments_lexer": "ipython3",
   "version": "3.12.4"
  }
 },
 "nbformat": 4,
 "nbformat_minor": 2
}
