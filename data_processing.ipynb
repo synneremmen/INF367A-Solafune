{
 "cells": [
  {
   "cell_type": "markdown",
   "metadata": {},
   "source": [
    "# Prøver å implementere baseline"
   ]
  },
  {
   "cell_type": "code",
   "execution_count": 1,
   "metadata": {},
   "outputs": [],
   "source": [
    "import rasterio\n",
    "import os\n",
    "import json\n",
    "import pickle\n",
    "\n",
    "def import_data(train_folder, labels_file):\n",
    "    count = 0\n",
    "    train_data = dict()\n",
    "    labels_data = dict()\n",
    "\n",
    "    for file in os.listdir(train_folder):\n",
    "        if file.endswith('.tif'):\n",
    "            with rasterio.open(train_folder + file) as src:\n",
    "                train_data.update({ file : src.read() })\n",
    "            \n",
    "    with open(labels_file, 'r') as file:\n",
    "        labels = json.load(file)\n",
    "        for image in labels[\"images\"]:\n",
    "            labels_data.update({image[\"file_name\"] : image[\"annotations\"]} )\n",
    "    \n",
    "    with open('train_data/train_data.pkl', 'wb') as train_file:\n",
    "        pickle.dump(train_data, train_file)\n",
    "    \n",
    "    with open('train_data/labels.pkl', 'wb') as eval_file:\n",
    "        pickle.dump((labels_data), eval_file)\n",
    "\n",
    "import_data('./data/train_images/', './data/train_annotations.json')"
   ]
  },
  {
   "cell_type": "code",
   "execution_count": null,
   "metadata": {},
   "outputs": [],
   "source": [
    "data = pickle.load(open('train_data/train_data.pkl', 'rb'))\n",
    "print(data.keys())"
   ]
  }
 ],
 "metadata": {
  "kernelspec": {
   "display_name": "INF367A",
   "language": "python",
   "name": "python3"
  },
  "language_info": {
   "codemirror_mode": {
    "name": "ipython",
    "version": 3
   },
   "file_extension": ".py",
   "mimetype": "text/x-python",
   "name": "python",
   "nbconvert_exporter": "python",
   "pygments_lexer": "ipython3",
   "version": "3.9.6"
  }
 },
 "nbformat": 4,
 "nbformat_minor": 2
}
