{
 "cells": [
  {
   "cell_type": "markdown",
   "metadata": {},
   "source": [
    "# Model"
   ]
  },
  {
   "cell_type": "code",
   "execution_count": 5,
   "metadata": {},
   "outputs": [],
   "source": [
    "import torch\n",
    "from torch import nn\n",
    "import matplotlib.pyplot as plt"
   ]
  },
  {
   "cell_type": "markdown",
   "metadata": {},
   "source": [
    "### Import data"
   ]
  },
  {
   "cell_type": "code",
   "execution_count": null,
   "metadata": {},
   "outputs": [],
   "source": []
  },
  {
   "cell_type": "markdown",
   "metadata": {},
   "source": [
    "### Training function"
   ]
  },
  {
   "cell_type": "code",
   "execution_count": 6,
   "metadata": {},
   "outputs": [],
   "source": [
    "def train(n_epochs, optimizer, model, loss_fn, train_loader, val_loader):\n",
    "\n",
    "    n_train_batch = len(train_loader)\n",
    "    losses_train = []\n",
    "\n",
    "    n_val_batch = len(val_loader)\n",
    "    losses_val = []\n",
    "\n",
    "    model.train()\n",
    "    optimizer.zero_grad()\n",
    "    \n",
    "    for epoch in range(1, n_epochs + 1):\n",
    "        loss_train = 0.0\n",
    "        loss_val = 0.0\n",
    "\n",
    "        for imgs, labels in train_loader:\n",
    "\n",
    "            outputs = model(imgs)\n",
    "            loss = loss_fn(outputs, labels)\n",
    "            loss.backward()\n",
    "            optimizer.step()\n",
    "            optimizer.zero_grad()\n",
    "\n",
    "            loss_train += loss.item()\n",
    "        losses_train.append(loss_train / n_train_batch)\n",
    "\n",
    "        with torch.no_grad():\n",
    "            for imgs, labels in val_loader:\n",
    "                model.eval()\n",
    "\n",
    "                outputs = model(imgs)\n",
    "                loss = loss_fn(outputs, labels)\n",
    "                loss_val += loss.item()\n",
    "\n",
    "            losses_val.append(loss_val / n_val_batch)\n",
    "\n",
    "        if epoch == 1 or epoch % 5 == 0:\n",
    "            print(f'--------- Epoch: {epoch} ---------')\n",
    "            print('Training loss {:.5f}'.format(loss_train / n_train_batch))\n",
    "            print('Validation loss {:.5f}'.format(loss_val / n_val_batch))\n",
    "            print()\n",
    "\n",
    "    return losses_train, losses_val"
   ]
  },
  {
   "cell_type": "markdown",
   "metadata": {},
   "source": [
    "###  A simple Convolutional Network"
   ]
  },
  {
   "cell_type": "code",
   "execution_count": null,
   "metadata": {},
   "outputs": [],
   "source": [
    "x, y, a, b = 0, 0, 0, 0 # Must be defined in the network\n",
    "\n",
    "class SimpleConvNet(nn.Module):\n",
    "\n",
    "    #Architecture\n",
    "    def __init__(self):\n",
    "        super().__init__()\n",
    "        self.conv = nn.Conv2d(in_channels=x, out_channels=y, kernel_size=(a,b), padding=0)  \n",
    "        self.pool = nn.MaxPool2d(2)\n",
    "        self.flat = nn.Flatten()\n",
    "        self.fc = nn.Linear(in_features=x, out_features=y)\n",
    "        self.a = nn.Sigmoid()\n",
    "\n",
    "    #Forward Pass:  \n",
    "    def forward(self, x):   \n",
    "        out = self.conv(x)   \n",
    "        out = torch.relu(self.pool(out))\n",
    "        out = self.flat(out) \n",
    "        out = torch.relu(self.fc(out))  \n",
    "        out = self.a(out)\n",
    "        return out"
   ]
  },
  {
   "cell_type": "markdown",
   "metadata": {},
   "source": [
    "### Hyperparameters and training"
   ]
  },
  {
   "cell_type": "code",
   "execution_count": 8,
   "metadata": {},
   "outputs": [],
   "source": [
    "# Define hyperparameters\n",
    "n_epochs = 10\n",
    "optimizer = None\n",
    "model = None\n",
    "loss_fn = None\n",
    "train_loader = None\n",
    "val_loader = None"
   ]
  },
  {
   "cell_type": "code",
   "execution_count": null,
   "metadata": {},
   "outputs": [],
   "source": [
    "losses_train, losses_val = train(\n",
    "        n_epochs = n_epochs,\n",
    "        optimizer = optimizer,\n",
    "        model = model,\n",
    "        loss_fn = loss_fn,\n",
    "        train_loader = train_loader,\n",
    "        val_loader=val_loader\n",
    "    )\n",
    "\n",
    "# Plot the loss\n",
    "xvalues = range(1, n_epochs + 1)\n",
    "train_yvalues = losses_train\n",
    "val_yvalues = losses_val\n",
    "\n",
    "fig, ax = plt.subplots()\n",
    "\n",
    "ax.plot(xvalues, train_yvalues, label='training')\n",
    "ax.plot(xvalues, val_yvalues, label='validation')\n",
    "ax.set_title(f'Training and Validation loss for {model.__class__.__name__}')\n",
    "ax.set_xlabel('Epochs')\n",
    "ax.set_ylabel('Loss')\n",
    "ax.legend()\n",
    "plt.show()\n"
   ]
  }
 ],
 "metadata": {
  "kernelspec": {
   "display_name": "3.9.5",
   "language": "python",
   "name": "python3"
  },
  "language_info": {
   "codemirror_mode": {
    "name": "ipython",
    "version": 3
   },
   "file_extension": ".py",
   "mimetype": "text/x-python",
   "name": "python",
   "nbconvert_exporter": "python",
   "pygments_lexer": "ipython3",
   "version": "3.9.5"
  }
 },
 "nbformat": 4,
 "nbformat_minor": 2
}
