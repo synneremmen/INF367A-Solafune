{
 "cells": [
  {
   "cell_type": "markdown",
   "metadata": {},
   "source": [
    "# Model"
   ]
  },
  {
   "cell_type": "code",
   "execution_count": 1,
   "metadata": {},
   "outputs": [],
   "source": [
    "import torch\n",
    "import torch.nn.functional as F\n",
    "from torch.utils.data import TensorDataset, DataLoader\n",
    "from torch import nn, optim\n",
    "import matplotlib.pyplot as plt\n",
    "import os\n",
    "import rasterio\n",
    "import pickle"
   ]
  },
  {
   "cell_type": "markdown",
   "metadata": {},
   "source": [
    "### Import data"
   ]
  },
  {
   "cell_type": "code",
   "execution_count": 2,
   "metadata": {},
   "outputs": [
    {
     "name": "stdout",
     "output_type": "stream",
     "text": [
      "Loading training images from pickle file...\n"
     ]
    }
   ],
   "source": [
    "def import_training_imgs(train_folder):\n",
    "    x_train= []\n",
    "\n",
    "    for file in os.listdir(train_folder):\n",
    "        if file.endswith('.tif'):\n",
    "            file_path = os.path.join(train_folder, file)\n",
    "            with rasterio.open(file_path) as src:\n",
    "                image_np = src.read()  \n",
    "                image_tensor = torch.from_numpy(image_np).float()\n",
    "                x_train.append(image_tensor)\n",
    "    return x_train\n",
    "\n",
    "if os.path.exists('./data/loaded/train_images.pkl'):\n",
    "    print('Loading training images from pickle file...')\n",
    "    x_train = pickle.load(open('./data/loaded/train_images.pkl', 'rb'))\n",
    "else:\n",
    "    print('Importing training images...')\n",
    "    x_train = import_training_imgs('data/train_images/')\n",
    "    pickle.dump(x_train, open('data/loaded/train_images.pkl', 'wb'))"
   ]
  },
  {
   "cell_type": "code",
   "execution_count": 3,
   "metadata": {},
   "outputs": [],
   "source": [
    "def import_training_labels(train_folder):\n",
    "    y_train = []\n",
    "\n",
    "    for file in os.listdir(train_folder):\n",
    "        if file.endswith('.tif'):\n",
    "            file_path = os.path.join(train_folder, file)\n",
    "            with rasterio.open(file_path) as src:\n",
    "                image_np = src.read()\n",
    "                image_tensor = torch.from_numpy(image_np)\n",
    "                y_train.append(image_tensor)\n",
    "    return y_train"
   ]
  },
  {
   "cell_type": "code",
   "execution_count": 4,
   "metadata": {},
   "outputs": [],
   "source": [
    "y_train = import_training_labels('data/masked_annotations/')"
   ]
  },
  {
   "cell_type": "code",
   "execution_count": 5,
   "metadata": {},
   "outputs": [
    {
     "data": {
      "text/plain": [
       "torch.Size([12, 1024, 1024])"
      ]
     },
     "execution_count": 5,
     "metadata": {},
     "output_type": "execute_result"
    }
   ],
   "source": [
    "x_train[1].shape"
   ]
  },
  {
   "cell_type": "code",
   "execution_count": 12,
   "metadata": {},
   "outputs": [],
   "source": [
    "\n",
    "x_train_tensor = torch.stack(x_train)  # Shape: [num_samples, 12, 1024, 1024]\n",
    "y_train_tensor = torch.stack(y_train).squeeze(1).long()   # Shape: [num_samples, 1, 1024, 1024]\n",
    "\n",
    "train_dataset = TensorDataset(x_train_tensor, y_train_tensor)"
   ]
  },
  {
   "cell_type": "code",
   "execution_count": 13,
   "metadata": {},
   "outputs": [],
   "source": [
    "batch_size = 10\n",
    "\n",
    "train_loader = DataLoader(train_dataset, batch_size=batch_size, shuffle=True)"
   ]
  },
  {
   "cell_type": "markdown",
   "metadata": {},
   "source": [
    "### Training function"
   ]
  },
  {
   "cell_type": "code",
   "execution_count": 14,
   "metadata": {},
   "outputs": [],
   "source": [
    "def train(n_epochs, optimizer, model, loss_fn, train_loader, val_loader=None):\n",
    "\n",
    "    n_train_batch = len(train_loader)\n",
    "    losses_train = []\n",
    "    if val_loader is not None:\n",
    "        n_val_batch = len(val_loader)\n",
    "        losses_val = []\n",
    "\n",
    "    model.train()\n",
    "    optimizer.zero_grad()\n",
    "    \n",
    "    for epoch in range(1, n_epochs + 1):\n",
    "        loss_train = 0.0\n",
    "        loss_val = 0.0\n",
    "\n",
    "        for imgs, labels in train_loader:\n",
    "\n",
    "            outputs = model(imgs)\n",
    "            loss = loss_fn(outputs, labels.squeeze(1))\n",
    "            loss.backward()\n",
    "            optimizer.step()\n",
    "            optimizer.zero_grad()\n",
    "\n",
    "            loss_train += loss.item()\n",
    "        losses_train.append(loss_train / n_train_batch)\n",
    "\n",
    "        if val_loader is not None:\n",
    "            with torch.no_grad():\n",
    "                for imgs, labels in val_loader:\n",
    "                    model.eval()\n",
    "\n",
    "                    outputs = model(imgs)\n",
    "                    loss = loss_fn(outputs, labels)\n",
    "                    loss_val += loss.item()\n",
    "\n",
    "                losses_val.append(loss_val / n_val_batch)\n",
    "\n",
    "        if epoch == 1 or epoch % 5 == 0:\n",
    "            print(f'--------- Epoch: {epoch} ---------')\n",
    "            print('Training loss {:.5f}'.format(loss_train / n_train_batch))\n",
    "            if val_loader is not None:\n",
    "                print('Validation loss {:.5f}'.format(loss_val / n_val_batch))\n",
    "            print()\n",
    "\n",
    "    return losses_train#, losses_val"
   ]
  },
  {
   "cell_type": "markdown",
   "metadata": {},
   "source": [
    "###  A simple Convolutional Network"
   ]
  },
  {
   "cell_type": "code",
   "execution_count": 15,
   "metadata": {},
   "outputs": [],
   "source": [
    "class SimpleConvNet(nn.Module):\n",
    "    def __init__(self):\n",
    "        super(SimpleConvNet, self).__init__()\n",
    "        \n",
    "        # Encoder: downsample from 1024x1024 to 256x256\n",
    "        self.down1 = nn.Sequential(\n",
    "            nn.Conv2d(in_channels=12, out_channels=32, kernel_size=3, padding=1),\n",
    "            nn.ReLU(),\n",
    "            nn.MaxPool2d(kernel_size=2)  # 1024 -> 512\n",
    "        )\n",
    "        self.down2 = nn.Sequential(\n",
    "            nn.Conv2d(in_channels=32, out_channels=64, kernel_size=3, padding=1),\n",
    "            nn.ReLU(),\n",
    "            nn.MaxPool2d(kernel_size=2)  # 512 -> 256\n",
    "        )\n",
    "        \n",
    "        # Decoder: upsample from 256x256 back to 1024x1024\n",
    "        self.up1 = nn.ConvTranspose2d(in_channels=64, out_channels=32, \n",
    "                                      kernel_size=2, stride=2)  # 256 -> 512\n",
    "        self.up2 = nn.ConvTranspose2d(in_channels=32, out_channels=5,  # output 5 channels now\n",
    "                                      kernel_size=2, stride=2)  # 512 -> 1024\n",
    "        \n",
    "    \n",
    "    def forward(self, x):\n",
    "        # [batch, 12, 1024, 1024]\n",
    "        x = self.down1(x)    # [batch, 32, 512, 512]\n",
    "        x = self.down2(x)    # [batch, 64, 256, 256]\n",
    "        x = F.relu(self.up1(x))  # [batch, 32, 512, 512]\n",
    "        x = self.up2(x)      # [batch, 5, 1024, 1024]\n",
    "        return x\n"
   ]
  },
  {
   "cell_type": "code",
   "execution_count": 16,
   "metadata": {},
   "outputs": [],
   "source": [
    "model = SimpleConvNet()\n",
    "optimizer = torch.optim.Adam(model.parameters(), lr=0.001)\n",
    "loss_fn = nn.CrossEntropyLoss()\n"
   ]
  },
  {
   "cell_type": "code",
   "execution_count": 17,
   "metadata": {},
   "outputs": [
    {
     "name": "stdout",
     "output_type": "stream",
     "text": [
      "--------- Epoch: 1 ---------\n",
      "Training loss nan\n",
      "\n"
     ]
    }
   ],
   "source": [
    "n_epochs = 1 \n",
    "\n",
    "losses_train = train(n_epochs, optimizer, model, loss_fn, train_loader)\n"
   ]
  },
  {
   "cell_type": "code",
   "execution_count": null,
   "metadata": {},
   "outputs": [],
   "source": []
  }
 ],
 "metadata": {
  "kernelspec": {
   "display_name": ".solafuneenv",
   "language": "python",
   "name": "python3"
  },
  "language_info": {
   "codemirror_mode": {
    "name": "ipython",
    "version": 3
   },
   "file_extension": ".py",
   "mimetype": "text/x-python",
   "name": "python",
   "nbconvert_exporter": "python",
   "pygments_lexer": "ipython3",
   "version": "3.12.4"
  }
 },
 "nbformat": 4,
 "nbformat_minor": 2
}
