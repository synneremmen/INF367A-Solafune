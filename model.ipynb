{
 "cells": [
  {
   "cell_type": "markdown",
   "metadata": {},
   "source": [
    "# Model"
   ]
  },
  {
   "cell_type": "code",
   "execution_count": 2,
   "metadata": {},
   "outputs": [],
   "source": [
    "import torch\n",
    "from torch import nn, optim\n",
    "import matplotlib.pyplot as plt\n",
    "import os\n",
    "import rasterio\n",
    "import pickle\n",
    "\n",
    "device = (torch.device('cuda') if torch.cuda.is_available()\n",
    "          else torch.device('cpu'))\n",
    "\n",
    "print(f\"Training on {device}.\")"
   ]
  },
  {
   "cell_type": "markdown",
   "metadata": {},
   "source": [
    "### Import data"
   ]
  },
  {
   "cell_type": "code",
   "execution_count": 3,
   "metadata": {},
   "outputs": [],
   "source": [
    "def import_training_imgs(train_folder):\n",
    "    train_data = dict()\n",
    "\n",
    "    for file in os.listdir(train_folder):\n",
    "        if file.endswith('.tif'):\n",
    "            with rasterio.open(train_folder + file) as src:\n",
    "                train_data.update({ file : src.read() })\n",
    "    return train_data\n",
    "\n",
    "if os.path.exists('loaded/train_images.pkl'):\n",
    "    train_imgs = pickle.load(open('loaded/train_images.pkl', 'rb'))\n",
    "else:\n",
    "    train_imgs = import_training_imgs('data/train_images/')\n",
    "    pickle.dump(train_imgs, open('loaded/train_images.pkl', 'wb'))"
   ]
  },
  {
   "cell_type": "markdown",
   "metadata": {},
   "source": [
    "### Training function"
   ]
  },
  {
   "cell_type": "code",
   "execution_count": 4,
   "metadata": {},
   "outputs": [],
   "source": [
    "def train(n_epochs, optimizer, model, loss_fn, train_loader, val_loader):\n",
    "\n",
    "    n_train_batch = len(train_loader)\n",
    "    losses_train = []\n",
    "\n",
    "    n_val_batch = len(val_loader)\n",
    "    losses_val = []\n",
    "\n",
    "    model.train()\n",
    "    optimizer.zero_grad()\n",
    "    model = model.to(device)\n",
    "    \n",
    "    for epoch in range(1, n_epochs + 1):\n",
    "        loss_train = 0.0\n",
    "        loss_val = 0.0\n",
    "\n",
    "        for imgs, labels in train_loader:\n",
    "            imgs = imgs.to(device)\n",
    "            labels = labels.to(device)\n",
    "            model.train()\n",
    "\n",
    "            outputs = model(imgs)\n",
    "            loss = loss_fn(outputs, labels)\n",
    "            loss.backward()\n",
    "            optimizer.step()\n",
    "            optimizer.zero_grad()\n",
    "\n",
    "            loss_train += loss.item()\n",
    "        losses_train.append(loss_train / n_train_batch)\n",
    "\n",
    "        with torch.no_grad():\n",
    "            for imgs, labels in val_loader:\n",
    "                imgs = imgs.to(device)\n",
    "                labels = labels.to(device)\n",
    "                model.eval()\n",
    "\n",
    "                outputs = model(imgs)\n",
    "                loss = loss_fn(outputs, labels)\n",
    "                loss_val += loss.item()\n",
    "\n",
    "            losses_val.append(loss_val / n_val_batch)\n",
    "\n",
    "        if epoch == 1 or epoch % 5 == 0:\n",
    "            print(f'--------- Epoch: {epoch} ---------')\n",
    "            print('Training loss {:.5f}'.format(loss_train / n_train_batch))\n",
    "            print('Validation loss {:.5f}'.format(loss_val / n_val_batch))\n",
    "            print()\n",
    "\n",
    "    return losses_train, losses_val"
   ]
  },
  {
   "cell_type": "markdown",
   "metadata": {},
   "source": [
    "###  A simple Convolutional Network"
   ]
  },
  {
   "cell_type": "code",
   "execution_count": 4,
   "metadata": {},
   "outputs": [],
   "source": [
    "class SimpleConvNet(nn.Module):\n",
    "\n",
    "    #Architecture\n",
    "    def __init__(self):\n",
    "        super().__init__()\n",
    "        self.conv1 = nn.Conv2d(in_channels=12, out_channels=6, kernel_size=(5,5), padding=2)  \n",
    "        self.pool1 = nn.MaxPool2d(2)\n",
    "        self.conv2 = nn.Conv2d(in_channels=6, out_channels=1, kernel_size=(3,3), padding=1)  \n",
    "        self.pool2 = nn.MaxPool2d(2)\n",
    "        self.flat = nn.Flatten()\n",
    "        self.fc = nn.Linear(in_features=256 * 256, out_features=1024 * 1024)\n",
    "        self.a = nn.Sigmoid()\n",
    "\n",
    "    #Forward Pass:  \n",
    "    def forward(self, x): \n",
    "        out = self.conv1(x)   \n",
    "        out = torch.relu(self.pool(out))\n",
    "        out = self.conv2(out)\n",
    "        out = self.flat(out) \n",
    "        out = torch.relu(self.fc(out))  \n",
    "        out = self.a(out)\n",
    "        return out"
   ]
  },
  {
   "cell_type": "code",
   "execution_count": 8,
   "metadata": {},
   "outputs": [],
   "source": [
    "model = SimpleConvNet()"
   ]
  },
  {
   "cell_type": "code",
   "execution_count": null,
   "metadata": {},
   "outputs": [],
   "source": [
    "print(\"hei\")\n",
    "image = train_imgs['image_1.tif']\n",
    "print(image.shape)\n",
    "model(image)"
   ]
  },
  {
   "cell_type": "markdown",
   "metadata": {},
   "source": [
    "### Hyperparameters and training"
   ]
  },
  {
   "cell_type": "code",
   "execution_count": 8,
   "metadata": {},
   "outputs": [],
   "source": [
    "# Define hyperparameters\n",
    "n_epochs = 10\n",
    "lr = 1e-2\n",
    "model = SimpleConvNet()\n",
    "optimizer = optim.SGD(model.parameters(), lr=lr)\n",
    "loss_fn = None\n",
    "train_loader = {k: train_imgs[k] for k in list(train_imgs)[:10]}\n",
    "val_loader = None"
   ]
  },
  {
   "cell_type": "code",
   "execution_count": null,
   "metadata": {},
   "outputs": [],
   "source": [
    "losses_train, losses_val = train(\n",
    "        n_epochs = n_epochs,\n",
    "        optimizer = optimizer,\n",
    "        model = model,\n",
    "        loss_fn = loss_fn,\n",
    "        train_loader = train_loader,\n",
    "        val_loader=val_loader\n",
    "    )\n",
    "\n",
    "# Plot the loss\n",
    "xvalues = range(1, n_epochs + 1)\n",
    "train_yvalues = losses_train\n",
    "val_yvalues = losses_val\n",
    "\n",
    "fig, ax = plt.subplots()\n",
    "\n",
    "ax.plot(xvalues, train_yvalues, label='training')\n",
    "ax.plot(xvalues, val_yvalues, label='validation')\n",
    "ax.set_title(f'Training and Validation loss for {model.__class__.__name__}')\n",
    "ax.set_xlabel('Epochs')\n",
    "ax.set_ylabel('Loss')\n",
    "ax.legend()\n",
    "plt.show()\n"
   ]
  }
 ],
 "metadata": {
  "kernelspec": {
   "display_name": "INF367A",
   "language": "python",
   "name": "python3"
  },
  "language_info": {
   "codemirror_mode": {
    "name": "ipython",
    "version": 3
   },
   "file_extension": ".py",
   "mimetype": "text/x-python",
   "name": "python",
   "nbconvert_exporter": "python",
   "pygments_lexer": "ipython3",
   "version": "3.10.12"
  }
 },
 "nbformat": 4,
 "nbformat_minor": 2
}
